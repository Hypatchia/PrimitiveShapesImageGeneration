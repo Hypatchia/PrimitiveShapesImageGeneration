{
  "cells": [
    {
      "cell_type": "markdown",
      "metadata": {
        "id": "1vLEHcux9cxJ"
      },
      "source": [
        "### Generate a dataset of images that contain primitive shapes.\n",
        "* Shapes : Rectangle, Triangle, Ellipse.\n",
        "* Each Image contains one randomly selected shape of random position , color , orientation .**bold text**\n",
        "* Task 1 : Procedural Generation\n",
        "* Task 2 : OpenCV\n"
      ]
    },
    {
      "cell_type": "markdown",
      "metadata": {
        "id": "4qVfPOJ9-euw"
      },
      "source": [
        "\n",
        "* The dataset generated is balanced ,meaning the number of images is equal for each shape. 2500 images total\n",
        "\n",
        "\n",
        "* Encountered challenges while dataset generation :\n",
        "  * Shapes generated were not consistent meaning for example an ellipse at first was generated with half of it outside the image bounds which makes it half an ellipse . a similar problem with triangles and rectangles.\n",
        "\n",
        "* The approach was to update and change the functions of generation to make the shapes more consistent and less distorted to improve the accuracy.\n",
        "\n",
        "* The idea is that it's a perfect dataset , with no distortions , while in real life , shapes are colluded, confused , and mostly distorted which means that the first dataset generated was logicially more realistic .\n"
      ]
    },
    {
      "cell_type": "markdown",
      "metadata": {
        "id": "ZcX6QmWB-Kui"
      },
      "source": [
        "### Task 1 : Procedural Generation"
      ]
    },
    {
      "cell_type": "code",
      "execution_count": 1,
      "metadata": {
        "id": "1RuWBlq38fM0"
      },
      "outputs": [],
      "source": [
        "# Necessary Imports\n",
        "import os # Interact with OS\n",
        "import torch # PyTorch package\n",
        "import numpy as np # Array manipulation\n",
        "import matplotlib.pyplot as plt\n",
        "import torchvision # Load tools for computer vision tasks\n",
        "import torchvision.transforms.functional as F # Vision Preprocessing Transform Opeartions\n",
        "# Image : Provides function to Create and Manipulate Images\n",
        "# ImageDraw : Provides function to draw images\n",
        "from PIL import Image, ImageDraw\n",
        "import torchvision.transforms as transforms # Vision Transform Operations\n",
        "import torch.nn as nn # Pytorch NNs \n",
        "import torch.nn.functional as F # Pytorch NN operations, activations, loss ...\n",
        "import torch.optim as optim #  Optimization algorithms\n",
        "from torchvision.datasets import ImageFolder # \n",
        "from sklearn.metrics import classification_report"
      ]
    },
    {
      "cell_type": "code",
      "execution_count": 44,
      "metadata": {
        "id": "R3-3sK609hQs"
      },
      "outputs": [],
      "source": [
        "# Define a directory to save the generated images\n",
        "dir = \"Generated_shapes_dataset\"\n",
        "# Create directory\n",
        "os.makedirs(dir, exist_ok=True)\n",
        "# Create Subdirsrepresenting the different shapes\n",
        "os.makedirs(os.path.join(dir,\"rectangle\"), exist_ok=True)\n",
        "os.makedirs(os.path.join(dir,\"triangle\"),   exist_ok=True)\n",
        "os.makedirs(os.path.join(dir,\"ellipse\"),   exist_ok=True)\n",
        "\n",
        "\n",
        "# Define size of dataset or number of images to be generated\n",
        "dataset_size = 2500\n",
        "image_size = (400,400)"
      ]
    },
    {
      "cell_type": "code",
      "execution_count": 43,
      "metadata": {
        "id": "-aet2HnW9k74"
      },
      "outputs": [],
      "source": [
        "# Define helper functions \n",
        "# Function to generate a random rbg color \n",
        "def random_color():\n",
        "  \"\"\"\n",
        "  Generates a random values color tuple.\n",
        "  input : none.\n",
        "  output : tuple representing a color .\n",
        "  \n",
        "  \"\"\"\n",
        "  return tuple(torch.randint(0,256,size=(3,),dtype=torch.uint8).tolist())\n",
        "\n",
        "# Function to generate a random starting point for a shape \n",
        "\n",
        "def random_point(bounds):\n",
        "\n",
        "  \"\"\"\n",
        "  Generates random coordinates (x,y) within the bounds for a point.\n",
        "  input : bounds ( upper height and width ).\n",
        "  output : tuple of two coordinates.\n",
        "  \"\"\"\n",
        "\n",
        "  x_bound, y_bound = bounds  # Assuming bounds is a list [x_bound, y_bound]\n",
        "  x = torch.randint(0, x_bound, size=(1,)).item()\n",
        "  y = torch.randint(0, y_bound, size=(1,)).item()\n",
        "  return x, y\n",
        "\n",
        "\n",
        "# Function to generate a rectangle \n",
        "\n",
        "def rectangle(image_size):\n",
        "  \"\"\"\n",
        "  Generates a random size and color rectangle shape.\n",
        "  input : desired image size.\n",
        "  output : shape coordinates.\n",
        "  \"\"\"\n",
        "  # Create a tensor of height and width (bounds[0] & bounds[1])\n",
        "  bounds = torch.randint(image_size[0] // 4, image_size[0] // 2, size=(2,))\n",
        "  \n",
        "   # Generate random start point of shape\n",
        "  x0, y0 = random_point(bounds)\n",
        "  x1, y1 = random_point(bounds)\n",
        "  \n",
        "  # Ensure x1 is greater than x0 and y1 is greater than y0\n",
        "  x0, x1 = min(x0, x1), max(x0, x1)\n",
        "  y0, y1 = min(y0, y1), max(y0, y1)\n",
        "\n",
        "  # Generate random color for the shape\n",
        "  color = random_color()\n",
        "\n",
        "  return (x0, y0), (x1, y1), color, \"rectangle\"\n",
        "\n",
        "\n",
        "# Function to generate a triangle\n",
        "\n",
        "def triangle(image_size):\n",
        "  \"\"\"\n",
        "  Generates a random size and color triangle shape\n",
        "  input : desired image size\n",
        "  output : shape coordinates\n",
        "  \"\"\"\n",
        "  #\n",
        "  bounds = torch.randint(image_size[0] // 4, image_size[0] // 2, size=(2,))\n",
        "  pt1 = random_point(bounds)\n",
        "  pt2 = random_point(bounds)\n",
        "  # \n",
        "  pt3 = random_point(bounds)\n",
        "\n",
        "  color = random_color()\n",
        "  return pt1, pt2, pt3, color, \"triangle\"\n",
        "\n",
        "\n",
        "# Function to generate an ellipse\n",
        "\n",
        "def ellipse(image_size):\n",
        "  \"\"\"\n",
        "  Generates a random size and color ellipse shape\n",
        "  input : desired image size\n",
        "  output : shape coordinates\n",
        "  \"\"\"\n",
        "  #\n",
        "  bounds = torch.randint(image_size[0] // 4, image_size[0] // 2, size=(2,))\n",
        "  # Generate a random center for shape\n",
        "  center = random_point(bounds)\n",
        "  # \n",
        "  axes = random_point(bounds)\n",
        "  angle = torch.randint(0, 360, size=(1,)).item()\n",
        "  #\n",
        "  color = random_color()\n",
        "  return center, axes, angle, color, \"ellipse\"\n",
        "\n",
        "\n"
      ]
    },
    {
      "cell_type": "code",
      "execution_count": 25,
      "metadata": {
        "id": "OL2hQyqe9mPM"
      },
      "outputs": [],
      "source": [
        "# Generation loop\n",
        "\n",
        "for i in range(dataset_size):\n",
        "  # Create a black image on a white background.\n",
        "  image = Image.new(\"RGB\",image_size,(255,255,255))\n",
        "\n",
        "  # Choose random shape to be generated \n",
        "  shape = torch.randint(1,4,size=(1,)).item() # 1: rectangle, 2: triangle, 3: ellipse\n",
        "\n",
        "  # Generate rectangle\n",
        "  if shape == 1:\n",
        "    pt1, pt2, color, label = rectangle(image_size)\n",
        "    draw = ImageDraw.Draw(image)\n",
        "   \n",
        "    draw.rectangle((pt1, pt2), fill=color)\n",
        "\n",
        "\n",
        "  # Generate triangle\n",
        "  elif shape ==2:\n",
        "      pt1, pt2, pt3, color, label = triangle(image_size)\n",
        "      draw = ImageDraw.Draw(image)\n",
        "      draw.polygon((pt1, pt2, pt3), fill=color)\n",
        "\n",
        "  # Generate Ellipse\n",
        "  else:\n",
        "        center, axes, angle, color, label = ellipse(image_size)\n",
        "        draw = ImageDraw.Draw(image)\n",
        "        draw.ellipse(((center[0] - axes[0], center[1] - axes[1]), (center[0] + axes[0], center[1] + axes[1])),\n",
        "                     fill=color, outline=color)\n",
        "\n",
        "\n",
        "  # Save the generated image with label\n",
        "\n",
        "  image_filename = os.path.join(dir,label,f\"shape_{i+1}_{label}.png\")\n",
        " \n",
        "  # Create path to save the image\n",
        "  image.save(image_filename)\n",
        "\n"
      ]
    },
    {
      "cell_type": "code",
      "execution_count": 40,
      "metadata": {},
      "outputs": [],
      "source": [
        "from PIL import Image, ImageDraw\n",
        "import torch\n",
        "import os\n",
        "\n",
        "def generate_dataset(dataset_size, image_size, output_directory):\n",
        "    \"\"\"\n",
        "    Generate a dataset of random shapes and save them to the specified directory.\n",
        "\n",
        "    Parameters:\n",
        "    - dataset_size (int): The number of images to generate in the dataset.\n",
        "    - image_size (tuple): A tuple specifying the dimensions (width, height) of the generated images.\n",
        "    - output_directory (str): The directory where the dataset images will be saved.\n",
        "\n",
        "    Returns:\n",
        "    None\n",
        "    \"\"\"\n",
        "    for i in range(dataset_size):\n",
        "        # Create a black image on a white background.\n",
        "        image = Image.new(\"RGB\", image_size, (255, 255, 255))\n",
        "\n",
        "        # Choose a random shape to be generated.\n",
        "        shape = torch.randint(1, 4, size=(1,)).item()  # 1: rectangle, 2: triangle, 3: ellipse\n",
        "\n",
        "        if shape == 1:\n",
        "            # Generate a rectangle\n",
        "            pt1, pt2, color, label = rectangle(image_size)\n",
        "            draw = ImageDraw.Draw(image)\n",
        "            draw.rectangle((pt1, pt2), fill=color)\n",
        "\n",
        "        elif shape == 2:\n",
        "            # Generate a triangle\n",
        "            pt1, pt2, pt3, color, label = triangle(image_size)\n",
        "            draw = ImageDraw.Draw(image)\n",
        "            draw.polygon((pt1, pt2, pt3), fill=color)\n",
        "\n",
        "        else:\n",
        "            # Generate an ellipse\n",
        "            center, axes, angle, color, label = ellipse(image_size)\n",
        "            draw = ImageDraw.Draw(image)\n",
        "            draw.ellipse(((center[0] - axes[0], center[1] - axes[1]), (center[0] + axes[0], center[1] + axes[1])),\n",
        "                         fill=color, outline=color)\n",
        "\n",
        "        # Save the generated image with label\n",
        "        image_filename = os.path.join(output_directory, label, f\"shape_{i + 1}_{label}.png\")\n",
        "\n",
        "        # Create the path to save the image\n",
        "        image.save(image_filename)\n"
      ]
    },
    {
      "cell_type": "code",
      "execution_count": 45,
      "metadata": {},
      "outputs": [],
      "source": [
        "generate_dataset(10, (400, 400), \"Generated_shapes_dataset\")"
      ]
    },
    {
      "cell_type": "markdown",
      "metadata": {
        "id": "J8UucyJC-Va0"
      },
      "source": [
        "### Task 2 : Using OpenCV "
      ]
    },
    {
      "cell_type": "code",
      "execution_count": 51,
      "metadata": {
        "id": "qNCijXdo9pEU"
      },
      "outputs": [],
      "source": [
        "import cv2\n",
        "import numpy as np\n",
        "import os\n",
        "\n",
        "# Create directory to store images\n",
        "if not os.path.exists('OPENCV_generated_shapes'):\n",
        "    os.makedirs('OPENCV_generated_shapes')\n",
        "\n",
        "os.makedirs('OPENCV_generated_shapes/' + 'rectangle', exist_ok=True)\n",
        "os.makedirs('OPENCV_generated_shapes/' + 'triangle', exist_ok=True)\n",
        "os.makedirs('OPENCV_generated_shapes/' + 'ellipse', exist_ok=True)\n",
        "# Set image size\n",
        "img_size = (300)\n",
        "\n",
        "# Define number of images to generate\n",
        "num_images = 100\n",
        "\n",
        "\n",
        "# Define list of primitive shapes\n",
        "shapes = ['rectangle', 'triangle','ellipse' ]\n",
        "\n",
        "# Loop through and generate images\n",
        "for i in range(num_images):\n",
        "    # Create new blank image\n",
        "    img = np.zeros((img_size, img_size, 3), dtype=np.uint8)\n",
        "    \n",
        "    # Select random shape and color\n",
        "    shape = np.random.choice(shapes)\n",
        "    color = random_color()\n",
        "    \n",
        "    # Draw shape on image\n",
        "    if shape == 'circle':\n",
        "        center = (img_size // 2, img_size // 2)\n",
        "        radius = np.random.randint(50, 100)\n",
        "        cv2.circle(img, center, radius, color, -1)\n",
        "    elif shape == 'rectangle':\n",
        "        pt1 = (np.random.randint(0, img_size // 2), np.random.randint(0, img_size // 2))\n",
        "        pt2 = (np.random.randint(img_size // 2, img_size), np.random.randint(img_size // 2, img_size))\n",
        "        cv2.rectangle(img, pt1, pt2, color, -1)\n",
        "    elif shape == 'triangle':\n",
        "        pt1 = (np.random.randint(0, img_size), np.random.randint(0, img_size // 2))\n",
        "        pt2 = (np.random.randint(0, img_size // 2), np.random.randint(img_size // 2, img_size))\n",
        "        pt3 = (np.random.randint(img_size // 2, img_size), np.random.randint(img_size // 2, img_size))\n",
        "        pts = np.array([pt1, pt2, pt3], np.int32)\n",
        "        cv2.fillPoly(img, [pts], color)\n",
        "    \n",
        "    # Save image\n",
        "    cv2.imwrite(f'OPENCV_generated_shapes/{shape}/{i}.jpg', img)"
      ]
    },
    {
      "cell_type": "markdown",
      "metadata": {},
      "source": []
    },
    {
      "cell_type": "code",
      "execution_count": 52,
      "metadata": {
        "id": "eeQZIkI9-IVF"
      },
      "outputs": [],
      "source": [
        "import cv2\n",
        "import numpy as np\n",
        "import os\n",
        "\n",
        "\n",
        "# Set image size\n",
        "img_size = (300)\n",
        "\n",
        "# Define number of images to generate\n",
        "num_images = 100\n",
        "\n",
        "\n",
        "# Define list of primitive shapes\n",
        "shapes = ['rectangle', 'triangle','ellipse' ]\n",
        "\n",
        "def opencv_generation(num_images, img_size, shapes):\n",
        "    # Loop through and generate images\n",
        "    for i in range(num_images):\n",
        "        # Create new blank image\n",
        "        img = np.zeros((img_size, img_size, 3), dtype=np.uint8)\n",
        "        \n",
        "        # Select random shape and color\n",
        "        shape = np.random.choice(shapes)\n",
        "        color = random_color()\n",
        "        \n",
        "        # Draw shape on image\n",
        "        if shape == 'circle':\n",
        "            center = (img_size // 2, img_size // 2)\n",
        "            radius = np.random.randint(50, 100)\n",
        "            cv2.circle(img, center, radius, color, -1)\n",
        "        elif shape == 'rectangle':\n",
        "            pt1 = (np.random.randint(0, img_size // 2), np.random.randint(0, img_size // 2))\n",
        "            pt2 = (np.random.randint(img_size // 2, img_size), np.random.randint(img_size // 2, img_size))\n",
        "            cv2.rectangle(img, pt1, pt2, color, -1)\n",
        "        elif shape == 'triangle':\n",
        "            pt1 = (np.random.randint(0, img_size), np.random.randint(0, img_size // 2))\n",
        "            pt2 = (np.random.randint(0, img_size // 2), np.random.randint(img_size // 2, img_size))\n",
        "            pt3 = (np.random.randint(img_size // 2, img_size), np.random.randint(img_size // 2, img_size))\n",
        "            pts = np.array([pt1, pt2, pt3], np.int32)\n",
        "            cv2.fillPoly(img, [pts], color)\n",
        "        \n",
        "        # Save image\n",
        "        cv2.imwrite(f'OPENCV_generated_shapes/{shape}/{i}.jpg', img)"
      ]
    },
    {
      "cell_type": "code",
      "execution_count": 49,
      "metadata": {
        "id": "pzA9bMD--Usf"
      },
      "outputs": [],
      "source": [
        "num_images = 10\n",
        "opencv_generation(num_images, img_size, shapes)"
      ]
    },
    {
      "cell_type": "code",
      "execution_count": null,
      "metadata": {
        "id": "GyXPmJxu_Kuy"
      },
      "outputs": [],
      "source": []
    }
  ],
  "metadata": {
    "colab": {
      "provenance": []
    },
    "kernelspec": {
      "display_name": "Python 3",
      "name": "python3"
    },
    "language_info": {
      "codemirror_mode": {
        "name": "ipython",
        "version": 3
      },
      "file_extension": ".py",
      "mimetype": "text/x-python",
      "name": "python",
      "nbconvert_exporter": "python",
      "pygments_lexer": "ipython3",
      "version": "3.10.11"
    }
  },
  "nbformat": 4,
  "nbformat_minor": 0
}
